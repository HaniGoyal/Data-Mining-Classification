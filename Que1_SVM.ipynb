{
 "cells": [
  {
   "cell_type": "code",
   "execution_count": 2,
   "id": "3581744c",
   "metadata": {},
   "outputs": [],
   "source": [
    "import pandas as pd\n",
    "import numpy as np\n",
    "from sklearn import svm\n",
    "from sklearn.model_selection import GridSearchCV\n",
    "from sklearn.model_selection import train_test_split\n",
    "from sklearn.metrics import accuracy_score\n",
    "from sklearn.preprocessing import LabelEncoder\n",
    "from pandas.api.types import CategoricalDtype\n",
    "import time"
   ]
  },
  {
   "cell_type": "code",
   "execution_count": 3,
   "id": "bd24f4e4",
   "metadata": {},
   "outputs": [],
   "source": [
    "data = pd.read_csv('car_kick.csv')\n",
    "# Deleting Unwanted Columns of Data\n",
    "data = data.drop(['PurchDate','Color', 'VNZIP1'], axis=1)\n",
    "\n",
    "# Deleting Missing Values\n",
    "data = data[data['MMRAcquisitionAuctionAveragePrice']!=0]\n",
    "data = data[data['MMRAcquisitionAuctionCleanPrice']!=0]\n",
    "data = data[data['MMRAcquisitionRetailAveragePrice']!=0]\n",
    "data = data[data['MMRAcquisitonRetailCleanPrice']!=0]\n",
    "\n",
    "X = data.iloc[:, :data.shape[1]-1]\n",
    "Y = data.iloc[:, data.shape[1]-1]"
   ]
  },
  {
   "cell_type": "code",
   "execution_count": 4,
   "id": "d605d708",
   "metadata": {},
   "outputs": [],
   "source": [
    "# Name of Data Attributes\n",
    "N = np.array(X.columns)\n",
    "# print(N)\n",
    "\n",
    "encoder = LabelEncoder()\n",
    "\n",
    "for i in range(len(N)):\n",
    "    if type(X.loc[0, N[i]]) == str :\n",
    "        X[N[i]] = encoder.fit_transform(X[N[i]])\n",
    "\n",
    "# Normailising the Data\n",
    "for i in range(len(N)):\n",
    "    X[N[i]] = ( ( X[N[i]] - X[N[i]].min() ) /  (X[N[i]].max() - X[N[i]].min()))"
   ]
  },
  {
   "cell_type": "code",
   "execution_count": 5,
   "id": "295f18cf",
   "metadata": {},
   "outputs": [],
   "source": [
    "# Classifying Attributes as Ordinal and Nominal\n",
    "# Classifying Attributes as Ordinal and Nominal\n",
    "X['Auction'] = X['Auction'].astype(CategoricalDtype(ordered=False))\n",
    "X['Make'] = X['Make'].astype(CategoricalDtype(ordered=False))\n",
    "X['Model'] = X['Model'].astype(CategoricalDtype(ordered=False))\n",
    "X['Trim'] = X['Trim'].astype(CategoricalDtype(ordered=False))\n",
    "X['SubModel'] = X['SubModel'].astype(CategoricalDtype(ordered=False))\n",
    "X['Transmission'] = X['Transmission'].astype(CategoricalDtype(ordered=False))\n",
    "X['WheelTypeID'] = X['WheelTypeID'].astype(CategoricalDtype(ordered=False))\n",
    "X['WheelType'] = X['WheelType'].astype(CategoricalDtype(ordered=False))\n",
    "X['Nationality'] = X['Nationality'].astype(CategoricalDtype(ordered=False))\n",
    "X['TopThreeAmericanName'] = X['TopThreeAmericanName'].astype(CategoricalDtype(ordered=False))\n",
    "X['BYRNO'] = X['BYRNO'].astype(CategoricalDtype(ordered=False))\n",
    "X['VNST'] = X['VNST'].astype(CategoricalDtype(ordered=False))"
   ]
  },
  {
   "cell_type": "code",
   "execution_count": 6,
   "id": "ca5554e5",
   "metadata": {},
   "outputs": [
    {
     "name": "stdout",
     "output_type": "stream",
     "text": [
      "Time in (sec) 0.05092883110046387\n"
     ]
    }
   ],
   "source": [
    "x_time = time.time()\n",
    "X_train, X_test, Y_train, Y_test = train_test_split(X, Y, random_state = 40, train_size = 0.5, test_size = 0.14)\n",
    "clf = svm.SVC()\n",
    "# clf.fit(X_train, Y_train)\n",
    "y_time = time.time()\n",
    "print(\"Time in (sec)\", y_time-x_time)"
   ]
  },
  {
   "cell_type": "code",
   "execution_count": 7,
   "id": "7a0581c1",
   "metadata": {},
   "outputs": [
    {
     "name": "stdout",
     "output_type": "stream",
     "text": [
      "Time in (min) 23.307499563694\n",
      "Best Hyperparameters :  {'kernel': 'poly'}\n",
      "Best score :  0.9048737167625873\n"
     ]
    }
   ],
   "source": [
    "param_grid = {\n",
    "    'kernel' : [ 'linear', 'poly', 'rbf', 'sigmoid' ]\n",
    "}\n",
    "\n",
    "x_time = time.time()\n",
    "gs = GridSearchCV( clf, param_grid=param_grid, cv=2, n_jobs=2 )\n",
    "gs.fit(X_train, Y_train)\n",
    "y_time = time.time()\n",
    "print(\"Time in (min)\", (y_time-x_time)/60)\n",
    "\n",
    "print('Best Hyperparameters : ', gs.best_params_)\n",
    "print('Best score : ', gs.best_score_)"
   ]
  },
  {
   "cell_type": "code",
   "execution_count": null,
   "id": "22a42ac6",
   "metadata": {},
   "outputs": [],
   "source": [
    "clf_best = svm.SVC(**gs.best_params_)\n",
    "clf_best.fit(X_train, Y_train) "
   ]
  },
  {
   "cell_type": "code",
   "execution_count": 10,
   "id": "2ec82e43",
   "metadata": {},
   "outputs": [
    {
     "name": "stdout",
     "output_type": "stream",
     "text": [
      "Time in (sec) 1.151637077331543\n",
      "Accuracy Score on train data:  0.9042673289681644\n",
      "Accuracy Score on test data:  0.900129004515158\n"
     ]
    }
   ],
   "source": [
    "x_time = time.time()\n",
    "Y_pred_train = clf_best.predict( X_train )\n",
    "Y_pred_test = clf_best.predict( X_test )\n",
    "y_time = time.time()\n",
    "print(\"Time in (sec)\", y_time-x_time)\n",
    "print('Accuracy Score on train data: ', accuracy_score(y_true=Y_train, y_pred=Y_pred_train))\n",
    "print('Accuracy Score on test data: ', accuracy_score(y_true=Y_test, y_pred=Y_pred_test))"
   ]
  }
 ],
 "metadata": {
  "kernelspec": {
   "display_name": "Python 3 (ipykernel)",
   "language": "python",
   "name": "python3"
  },
  "language_info": {
   "codemirror_mode": {
    "name": "ipython",
    "version": 3
   },
   "file_extension": ".py",
   "mimetype": "text/x-python",
   "name": "python",
   "nbconvert_exporter": "python",
   "pygments_lexer": "ipython3",
   "version": "3.10.7"
  }
 },
 "nbformat": 4,
 "nbformat_minor": 5
}
