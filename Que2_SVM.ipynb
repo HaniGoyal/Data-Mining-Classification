{
 "cells": [
  {
   "cell_type": "code",
   "execution_count": 1,
   "id": "34c0e1cf",
   "metadata": {},
   "outputs": [
    {
     "name": "stderr",
     "output_type": "stream",
     "text": [
      "C:\\Users\\harsh\\AppData\\Local\\Programs\\Python\\Python311\\Lib\\site-packages\\sklearn\\datasets\\_openml.py:932: FutureWarning: The default value of `parser` will change from `'liac-arff'` to `'auto'` in 1.4. You can set `parser='auto'` to silence this warning. Therefore, an `ImportError` will be raised from 1.4 if the dataset is dense and pandas is not installed. Note that the pandas parser may return different data types. See the Notes Section in fetch_openml's API doc for details.\n",
      "  warn(\n"
     ]
    }
   ],
   "source": [
    "import pandas as pd\n",
    "import numpy as np\n",
    "from sklearn import svm\n",
    "from sklearn.model_selection import GridSearchCV\n",
    "from sklearn.model_selection import train_test_split\n",
    "from sklearn.metrics import accuracy_score\n",
    "import time\n",
    "\n",
    "from sklearn.datasets import fetch_openml\n",
    "mnist = fetch_openml('mnist_784')"
   ]
  },
  {
   "cell_type": "code",
   "execution_count": 2,
   "id": "c967be06",
   "metadata": {
    "scrolled": true
   },
   "outputs": [
    {
     "name": "stdout",
     "output_type": "stream",
     "text": [
      "number of examples : 70000\n"
     ]
    }
   ],
   "source": [
    "X = mnist.data\n",
    "Y = mnist.target\n",
    "print('number of examples :', X.shape[0])"
   ]
  },
  {
   "cell_type": "code",
   "execution_count": 3,
   "id": "91ba0a95",
   "metadata": {},
   "outputs": [
    {
     "name": "stdout",
     "output_type": "stream",
     "text": [
      "Time in (sec) 0.1889655590057373\n"
     ]
    }
   ],
   "source": [
    "x_time = time.time()\n",
    "# Since the Sample Size is too big and SVMs take a long time to be trained, hence we are using only a small size of the sample. \n",
    "X_train, X_test, Y_train, Y_test = train_test_split(X, Y, random_state = 40, train_size = 0.3, test_size = 0.01)\n",
    "clf = svm.SVC()\n",
    "# clf.fit(X_train, Y_train)\n",
    "y_time = time.time()\n",
    "print(\"Time in (sec)\", y_time-x_time)"
   ]
  },
  {
   "cell_type": "code",
   "execution_count": null,
   "id": "10f833df",
   "metadata": {},
   "outputs": [],
   "source": [
    "param_grid = {\n",
    "    'kernel' : [ 'linear', 'poly', 'rbf', 'sigmoid' ]\n",
    "}\n",
    "\n",
    "x_time = time.time()\n",
    "gs = GridSearchCV( clf, param_grid=param_grid, cv=2, n_jobs=2 )\n",
    "gs.fit(X_train, Y_train)\n",
    "y_time = time.time()\n",
    "print(\"Time in (min)\", (y_time-x_time)/60)\n",
    "\n",
    "print('Best Hyperparameters : ', gs.best_params_)\n",
    "print('Best score : ', gs.best_score_)"
   ]
  },
  {
   "cell_type": "code",
   "execution_count": null,
   "id": "e90cdee8",
   "metadata": {},
   "outputs": [],
   "source": [
    "clf_best = svm.SVC(**gs.best_params_)\n",
    "clf_best.fit(X_train, Y_train) "
   ]
  },
  {
   "cell_type": "code",
   "execution_count": 1,
   "id": "77b6fa0b",
   "metadata": {},
   "outputs": [
    {
     "ename": "NameError",
     "evalue": "name 'time' is not defined",
     "output_type": "error",
     "traceback": [
      "\u001b[1;31m---------------------------------------------------------------------------\u001b[0m",
      "\u001b[1;31mNameError\u001b[0m                                 Traceback (most recent call last)",
      "Cell \u001b[1;32mIn[1], line 1\u001b[0m\n\u001b[1;32m----> 1\u001b[0m x_time \u001b[38;5;241m=\u001b[39m \u001b[43mtime\u001b[49m\u001b[38;5;241m.\u001b[39mtime()\n\u001b[0;32m      2\u001b[0m Y_pred_train \u001b[38;5;241m=\u001b[39m clf_best\u001b[38;5;241m.\u001b[39mpredict( X_train )\n\u001b[0;32m      3\u001b[0m Y_pred_test \u001b[38;5;241m=\u001b[39m clf_best\u001b[38;5;241m.\u001b[39mpredict( X_test )\n",
      "\u001b[1;31mNameError\u001b[0m: name 'time' is not defined"
     ]
    }
   ],
   "source": [
    "x_time = time.time()\n",
    "Y_pred_train = clf_best.predict( X_train )\n",
    "Y_pred_test = clf_best.predict( X_test )\n",
    "y_time = time.time()\n",
    "print(\"Time in (sec)\", y_time-x_time)\n",
    "print('Accuracy Score on train data: ', accuracy_score(y_true=Y_train, y_pred=Y_pred_train))\n",
    "print('Accuracy Score on test data: ', accuracy_score(y_true=Y_test, y_pred=Y_pred_test))"
   ]
  },
  {
   "cell_type": "code",
   "execution_count": null,
   "id": "ef789cc6",
   "metadata": {},
   "outputs": [],
   "source": []
  }
 ],
 "metadata": {
  "kernelspec": {
   "display_name": "Python 3 (ipykernel)",
   "language": "python",
   "name": "python3"
  },
  "language_info": {
   "codemirror_mode": {
    "name": "ipython",
    "version": 3
   },
   "file_extension": ".py",
   "mimetype": "text/x-python",
   "name": "python",
   "nbconvert_exporter": "python",
   "pygments_lexer": "ipython3",
   "version": "3.11.2"
  }
 },
 "nbformat": 4,
 "nbformat_minor": 5
}
